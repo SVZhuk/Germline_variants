{
 "cells": [
  {
   "cell_type": "code",
   "execution_count": 30,
   "metadata": {},
   "outputs": [],
   "source": [
    "import pandas as pd\n",
    "import numpy as np\n",
    "import matplotlib.pyplot as plt\n",
    "from matplotlib.ticker import MaxNLocator"
   ]
  },
  {
   "cell_type": "code",
   "execution_count": 31,
   "metadata": {},
   "outputs": [
    {
     "data": {
      "text/html": [
       "<div>\n",
       "<style scoped>\n",
       "    .dataframe tbody tr th:only-of-type {\n",
       "        vertical-align: middle;\n",
       "    }\n",
       "\n",
       "    .dataframe tbody tr th {\n",
       "        vertical-align: top;\n",
       "    }\n",
       "\n",
       "    .dataframe thead th {\n",
       "        text-align: right;\n",
       "    }\n",
       "</style>\n",
       "<table border=\"1\" class=\"dataframe\">\n",
       "  <thead>\n",
       "    <tr style=\"text-align: right;\">\n",
       "      <th></th>\n",
       "      <th>SampleId</th>\n",
       "      <th>VariantId</th>\n",
       "      <th>Genotype</th>\n",
       "      <th>AlleleDepth</th>\n",
       "    </tr>\n",
       "  </thead>\n",
       "  <tbody>\n",
       "    <tr>\n",
       "      <th>0</th>\n",
       "      <td>HW0174518310.final-gatk.cram</td>\n",
       "      <td>ATXN1</td>\n",
       "      <td>30/30</td>\n",
       "      <td>22.94/22.59</td>\n",
       "    </tr>\n",
       "    <tr>\n",
       "      <th>1</th>\n",
       "      <td>HW0174518310.final-gatk.cram</td>\n",
       "      <td>ATXN2</td>\n",
       "      <td>22/22</td>\n",
       "      <td>32.15/6.23</td>\n",
       "    </tr>\n",
       "    <tr>\n",
       "      <th>2</th>\n",
       "      <td>HW0174518310.final-gatk.cram</td>\n",
       "      <td>ATXN3</td>\n",
       "      <td>20/24</td>\n",
       "      <td>12.52/14.28</td>\n",
       "    </tr>\n",
       "    <tr>\n",
       "      <th>3</th>\n",
       "      <td>HW0174518264.final-gatk.cram</td>\n",
       "      <td>ATXN1</td>\n",
       "      <td>29/30</td>\n",
       "      <td>15.21/17.23</td>\n",
       "    </tr>\n",
       "    <tr>\n",
       "      <th>4</th>\n",
       "      <td>HW0174518264.final-gatk.cram</td>\n",
       "      <td>ATXN2</td>\n",
       "      <td>22/32</td>\n",
       "      <td>18.95/13.23</td>\n",
       "    </tr>\n",
       "  </tbody>\n",
       "</table>\n",
       "</div>"
      ],
      "text/plain": [
       "                       SampleId VariantId Genotype  AlleleDepth\n",
       "0  HW0174518310.final-gatk.cram     ATXN1    30/30  22.94/22.59\n",
       "1  HW0174518310.final-gatk.cram     ATXN2    22/22   32.15/6.23\n",
       "2  HW0174518310.final-gatk.cram     ATXN3    20/24  12.52/14.28\n",
       "3  HW0174518264.final-gatk.cram     ATXN1    29/30  15.21/17.23\n",
       "4  HW0174518264.final-gatk.cram     ATXN2    22/32  18.95/13.23"
      ]
     },
     "execution_count": 31,
     "metadata": {},
     "output_type": "execute_result"
    }
   ],
   "source": [
    "expansion_file = \"../data/metrics_file.tsv\"\n",
    "df = pd.read_csv(expansion_file, sep=\"\\t\")\n",
    "df.head()"
   ]
  },
  {
   "cell_type": "code",
   "execution_count": 32,
   "metadata": {},
   "outputs": [],
   "source": [
    "def get_zygosity(row):\n",
    "    if row[\"Allele_I\"] == row[\"Allele_II\"]:\n",
    "        return \"HOM\"\n",
    "    else:\n",
    "        return \"HET\"\n",
    "\n",
    "df[[\"Allele_I\", \"Allele_II\"]] = df[\"Genotype\"].str.split(\"/\", expand=True)\n",
    "df[\"SampleId\"] = df[\"SampleId\"].str.split(\".\").str[0]\n",
    "df[\"Zygosity\"] = df.apply(get_zygosity, axis=1)\n",
    "df.head()\n",
    "output_file = \"../data/repeats_stat_file.xlsx\"\n",
    "df.to_excel(output_file, index=False)"
   ]
  },
  {
   "cell_type": "code",
   "execution_count": 33,
   "metadata": {},
   "outputs": [],
   "source": [
    "\n",
    "def plot_histogram(df, gene):\n",
    "    df.loc[:, 'Allele_I'] = df['Allele_I'].astype(int)\n",
    "    df.loc[:, 'Allele_II'] = df['Allele_II'].astype(int)\n",
    "\n",
    "    min_val = min(df['Allele_I'].min(), df['Allele_II'].min())\n",
    "    max_val = max(df['Allele_I'].max(), df['Allele_II'].max())\n",
    "    bins = np.arange(min_val - 0.5, max_val + 1.5)\n",
    "\n",
    "    fig, axs = plt.subplots(1, 2, figsize=(12, 6))\n",
    "\n",
    "    for ax, zygosity in zip(axs, ['HOM', 'HET']):\n",
    "        df_zygosity = df[df['Zygosity'] == zygosity]\n",
    "        ax.hist([df_zygosity['Allele_I'], df_zygosity['Allele_II']], bins=bins, label=['Allele_I', 'Allele_II'])\n",
    "        ax.xaxis.set_major_locator(MaxNLocator(integer=True))\n",
    "        ax.yaxis.set_major_locator(MaxNLocator(integer=True))\n",
    "        ax.set_xlabel('Length (nt)')\n",
    "        ax.set_ylabel('Frequency')\n",
    "        ax.set_title(f'{gene} ({zygosity})')\n",
    "        ax.legend(loc='upper right')\n",
    "\n",
    "    plt.tight_layout()\n",
    "    plt.savefig(f'../data/{gene}_repeats.png')\n",
    "    plt.close()\n",
    "for gene in df[\"VariantId\"].unique():\n",
    "    gene_df = df[df[\"VariantId\"] == gene]\n",
    "    plot_histogram(gene_df, gene)"
   ]
  },
  {
   "cell_type": "code",
   "execution_count": null,
   "metadata": {},
   "outputs": [],
   "source": []
  },
  {
   "cell_type": "code",
   "execution_count": null,
   "metadata": {},
   "outputs": [],
   "source": []
  }
 ],
 "metadata": {
  "kernelspec": {
   "display_name": "DS",
   "language": "python",
   "name": "python3"
  },
  "language_info": {
   "codemirror_mode": {
    "name": "ipython",
    "version": 3
   },
   "file_extension": ".py",
   "mimetype": "text/x-python",
   "name": "python",
   "nbconvert_exporter": "python",
   "pygments_lexer": "ipython3",
   "version": "3.12.1"
  }
 },
 "nbformat": 4,
 "nbformat_minor": 2
}
